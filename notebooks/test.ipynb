{
 "cells": [
  {
   "cell_type": "code",
   "execution_count": 1,
   "metadata": {},
   "outputs": [],
   "source": [
    "%load_ext autoreload\n",
    "%autoreload 2"
   ]
  },
  {
   "cell_type": "code",
   "execution_count": 49,
   "metadata": {},
   "outputs": [
    {
     "name": "stdout",
     "output_type": "stream",
     "text": [
      "Querying Robokop...\n",
      "Returned 6 results\n"
     ]
    }
   ],
   "source": [
    "from kg_summarizer.queries import LOOKUP_QUERY_GRAPH_LIST, CREATIVE_QUERY_GRAPH_LIST\n",
    "from kg_summarizer.trapi import query_knowledge_graph\n",
    "\n",
    "# idx = 0\n",
    "# query_graph = LOOKUP_QUERY_GRAPH_LIST[idx]\n",
    "\n",
    "idx = 1\n",
    "query_graph = CREATIVE_QUERY_GRAPH_LIST[idx]\n",
    "\n",
    "target = 'robokop'\n",
    "# target = 'aragorn'\n",
    "# target = 'strider'\n",
    "\n",
    "# rjson = cache_query_knowledge_graph(query_graph, target=target)\n",
    "rjson = query_knowledge_graph(query_graph, target=target)\n",
    "\n",
    "print(f\"Returned {len(rjson['message']['results'])} results\")"
   ]
  },
  {
   "cell_type": "code",
   "execution_count": 54,
   "metadata": {},
   "outputs": [
    {
     "data": {
      "text/plain": [
       "{'nodes': {'gene': {'ids': ['NCBIGene:477'], 'categories': ['biolink:Gene']},\n",
       "  'chemical': {'categories': ['biolink:ChemicalEntity']}},\n",
       " 'edges': {'t_edge': {'subject': 'chemical',\n",
       "   'object': 'gene',\n",
       "   'knowledge_type': 'inferred',\n",
       "   'predicates': ['biolink:affects'],\n",
       "   'qualifier_constraints': [{'qualifier_set': [{'qualifier_type_id': 'biolink:object_aspect_qualifier',\n",
       "       'qualifier_value': 'activity_or_abundance'},\n",
       "      {'qualifier_type_id': 'biolink:object_direction_qualifier',\n",
       "       'qualifier_value': 'increased'}]}]}}}"
      ]
     },
     "execution_count": 54,
     "metadata": {},
     "output_type": "execute_result"
    }
   ],
   "source": [
    "rjson['message']['query_graph']"
   ]
  },
  {
   "cell_type": "code",
   "execution_count": 53,
   "metadata": {},
   "outputs": [
    {
     "data": {
      "text/plain": [
       "[{'subject': 'Ouabain',\n",
       "  'object': 'ATP1A2',\n",
       "  'predicate': 'affects',\n",
       "  'publications': [],\n",
       "  'support_graphs': {'ATP1A2 affects response to Ouabain.': [{'subject': 'ATP1A2',\n",
       "     'object': 'Ouabain',\n",
       "     'predicate': 'affects response to',\n",
       "     'publications': [{'PMID:16166162': 'A key question in hypertension is: How is long-term blood pressure controlled? A clue is that chronic salt retention elevates an endogenous ouabain-like compound (EOLC) and induces salt-dependent hypertension mediated by Na(+)/Ca(2)(+) exchange (NCX). The precise mechanism, however, is unresolved. Here we study blood pressure and isolated small arteries of mice with reduced expression of Na(+) pump alpha1 (alpha1(+/-)) or alpha2 (alpha2(+/-)) catalytic subunits. Both low-dose ouabain (1-100 nm; inhibits only alpha2) and high-dose ouabain (> or =1 microm; inhibits alpha1) elevate myocyte Ca(2)(+) and constrict arteries from alpha1(+/-), as well as alpha2(+/-) and wild-type mice. Nevertheless, only mice with reduced alpha2 Na(+) pump activity (alpha2(+/-)), and not alpha1 (alpha1(+/-)), have elevated blood pressure. Also, isolated, pressurized arteries from alpha2(+/-), but not alpha1(+/-), have increased myogenic tone. Ouabain antagonists (PST 2238 and canrenone) and NCX blockers (SEA0400 and KB-R7943) normalize myogenic tone in ouabain-treated arteries. Only the NCX blockers normalize the elevated myogenic tone in alpha2(+/-) arteries because this tone is ouabain independent. All four agents are known to lower blood pressure in salt-dependent and ouabain-induced hypertension. Thus, chronically reduced alpha2 activity (alpha2(+/-) or chronic ouabain) apparently regulates myogenic tone and long-term blood pressure whereas reduced alpha1 activity (alpha1(+/-)) plays no persistent role: the in vivo changes in blood pressure reflect the in vitro changes in myogenic tone. Accordingly, in salt-dependent hypertension, EOLC probably increases vascular resistance and blood pressure by reducing alpha2 Na(+) pump activity and promoting Ca(2)(+) entry via NCX in myocytes.'},\n",
       "      {'PMID:15458945': 'Although ouabain is known to induce hypertension, the mechanism of how this cardiac glycoside affects blood pressure is uncertain. The present study demonstrates that the alpha2-isoform of the Na-K-ATPase mediates the pressor effects of ouabain in mice. To accomplish this, we analyzed the effect of ouabain on blood pressure in wild-type mice, where the alpha2-isoform is sensitive to ouabain, and genetically engineered mice expressing a ouabain-insensitive alpha2-isoform of the Na-K-ATPase. Thus differences in the response to ouabain between these two genotypes can only be attributed to the alpha2-isoform of Na-K-ATPase. As the alpha1-isoform is naturally resistant to ouabain in rodents, it will not be inhibited by ouabain in either genotype. Whereas prolonged administration of ouabain increased levels of ouabain in serum from both wild-type and targeted animals, hypertension developed only in wild-type mice. In addition, bolus intravenous infusion of ouabain increased the systolic, mean arterial, and left ventricular blood pressure in only wild-type anesthetized mice. In vitro, ouabain increased vascular tone and thereby phenylephrine-induced contraction of the aorta in intact and endothelium-denuded wild-type mice but in alpha2-resistant mice. Ouabain also increased the magnitude of the spontaneous contractions of portal vein and the basal tone of the intact aorta from only wild-type mice. The increase in aortic basal tone was dependent on the presence of endothelium. Our studies also demonstrate that the alpha2-isoform of Na-K-ATPase mediates the ouabain-induced increase in vascular contractility. This could play a role in the development and maintenance of ouabain-induced hypertension.'}]}],\n",
       "   'Acetyldigitoxin directly physically interacts with ATP1A2, and Acetyldigitoxin similar to Ouabain.': [{'subject': 'Acetyldigitoxin',\n",
       "     'object': 'ATP1A2',\n",
       "     'predicate': 'directly physically interacts with',\n",
       "     'publications': []},\n",
       "    {'subject': 'Acetyldigitoxin',\n",
       "     'object': 'Ouabain',\n",
       "     'predicate': 'similar to',\n",
       "     'publications': []}],\n",
       "   'Digoxin similar to Ouabain, and Digoxin directly physically interacts with ATP1A2.': [{'subject': 'Digoxin',\n",
       "     'object': 'Ouabain',\n",
       "     'predicate': 'similar to',\n",
       "     'publications': []},\n",
       "    {'subject': 'Digoxin',\n",
       "     'object': 'ATP1A2',\n",
       "     'predicate': 'directly physically interacts with',\n",
       "     'publications': []}],\n",
       "   'Ouabain similar to Deslanoside, and Deslanoside directly physically interacts with ATP1A2.': [{'subject': 'Ouabain',\n",
       "     'object': 'Deslanoside',\n",
       "     'predicate': 'similar to',\n",
       "     'publications': []},\n",
       "    {'subject': 'Deslanoside',\n",
       "     'object': 'ATP1A2',\n",
       "     'predicate': 'directly physically interacts with',\n",
       "     'publications': []}]}}]"
      ]
     },
     "execution_count": 53,
     "metadata": {},
     "output_type": "execute_result"
    }
   ],
   "source": [
    "from kg_summarizer.trapi import GraphContainer\n",
    "\n",
    "g = GraphContainer(rjson, verbose=False, result_idx=0)\n",
    "g.edges"
   ]
  },
  {
   "cell_type": "code",
   "execution_count": 46,
   "metadata": {},
   "outputs": [
    {
     "name": "stdout",
     "output_type": "stream",
     "text": [
      "{'message': {'query_graph': {'nodes': {'n0': {'categories': ['biolink:ChemicalEntity'], 'name': 'Chemical Entity'}, 'n1': {'name': 'Huntington disease', 'categories': ['biolink:Disease'], 'ids': ['MONDO:0007739']}}, 'edges': {'e0': {'subject': 'n0', 'object': 'n1', 'predicates': ['biolink:ameliorates']}}}}}\n"
     ]
    }
   ],
   "source": [
    "print(query_graph)"
   ]
  },
  {
   "cell_type": "code",
   "execution_count": 47,
   "metadata": {},
   "outputs": [
    {
     "name": "stdout",
     "output_type": "stream",
     "text": [
      "{'nodes': {'n0': {'categories': ['biolink:ChemicalEntity'], 'is_set': False, 'constraints': [], 'name': 'Chemical Entity'}, 'n1': {'ids': ['MONDO:0007739'], 'categories': ['biolink:Disease'], 'is_set': False, 'constraints': [], 'name': 'Huntington disease'}}, 'edges': {'e0': {'subject': 'n0', 'object': 'n1', 'predicates': ['biolink:ameliorates'], 'attribute_constraints': [], 'qualifier_constraints': []}}}\n"
     ]
    }
   ],
   "source": [
    "print(rjson['message']['query_graph'])"
   ]
  },
  {
   "cell_type": "code",
   "execution_count": null,
   "metadata": {},
   "outputs": [],
   "source": [
    "import requests\n",
    "def test_endpoint(endpoint, payload, base_url=None):\n",
    "    if base_url is None:\n",
    "        base_url = \"http://localhost:8000\"\n",
    "    return requests.post(base_url + endpoint, json=payload)"
   ]
  },
  {
   "cell_type": "markdown",
   "metadata": {},
   "source": [
    "# Test Abstract Summary Endpoint"
   ]
  },
  {
   "cell_type": "code",
   "execution_count": 36,
   "metadata": {},
   "outputs": [],
   "source": [
    "abstract = 'Huntington\\'s disease (HD) is an autosomal dominant neurodegenerative disorder characterized by progressive involuntary movements, neuropsychiatric disturbances, and cognitive impairment. The use of tetrabenazine (TBZ), a specific inhibitor of vesicular monoamine transporter, is approved for chorea in HD patients. We aimed to review the medical literature concerning the efficacy and tolerability of TBZ in the treatment of HD patients and to report our personal experience about TBZ use in a cohort of HD patients. We searched PubMed (1960 to July 2010) using the following keywords: \"tetrabenazine\" + \"huntington\\'s disease + chorea\". We included randomized controlled trials, open-label trials, and retrospective studies. We excluded case reports and studies conducted on fewer than 20 patients. In addition, we retrospectively evaluated 2 years\\' follow-up of TBZ treatment on motor and cognitive performances and functional abilities in 28 HD patients, compared with 10 patients treated by other neuroleptics (clotiapine). Only four papers fulfilled the requested criteria. In the first study, which included 84 randomized outpatients, TBZ showed a significant improvement of chorea compared with placebo. In the open-label study extension, TBZ confirmed its efficacy on chorea, with a frequent occurrence of withdrawals due to side effects. In a retrospective study of long-term efficacy, 63 patients under TBZ therapy for an average period of 34 months showed a stable effect on chorea, despite a slight reduction of effect over time. In a telephone survey conducted on a total of 118 patients affected by different movement disorders, TBZ showed the most favorable effect for the 28 included HD patients. Our HD patients showed a slight deterioration of motor performances over time that was nonsignificant compared with TBZ or clotiapine treatments. Despite the fact that the global effect of TBZ seems positive in HD, more attention on evaluating symptomatic treatments for cognitive and psychiatric deterioration as well as motor deterioration would alleviate this devastating disorder until a neuroprotective treatment becomes available.'"
   ]
  },
  {
   "cell_type": "code",
   "execution_count": 45,
   "metadata": {},
   "outputs": [
    {
     "name": "stdout",
     "output_type": "stream",
     "text": [
      "Response Status Code: 200\n",
      "Response JSON: Tetrabenazine has been found to effectively reduce chorea in patients with Huntington's disease, although it may cause side effects and its long-term efficacy is slightly reduced over time.\n"
     ]
    }
   ],
   "source": [
    "payload = {\n",
    "    'abstract': abstract,\n",
    "    'parameters': {\n",
    "        'gpt_model': 'gpt-3.5-turbo',\n",
    "        'temperature': 1.0,\n",
    "    },\n",
    "}\n",
    "\n",
    "response = test_endpoint('/summarize/abstract', payload)\n",
    "print(\"Response Status Code:\", response.status_code)\n",
    "print(\"Response JSON:\", response.json())"
   ]
  }
 ],
 "metadata": {
  "kernelspec": {
   "display_name": "venv",
   "language": "python",
   "name": "python3"
  },
  "language_info": {
   "codemirror_mode": {
    "name": "ipython",
    "version": 3
   },
   "file_extension": ".py",
   "mimetype": "text/x-python",
   "name": "python",
   "nbconvert_exporter": "python",
   "pygments_lexer": "ipython3",
   "version": "3.10.1"
  },
  "orig_nbformat": 4
 },
 "nbformat": 4,
 "nbformat_minor": 2
}
