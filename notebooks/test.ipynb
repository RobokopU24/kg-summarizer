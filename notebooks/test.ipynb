{
 "cells": [
  {
   "cell_type": "code",
   "execution_count": 1,
   "metadata": {},
   "outputs": [],
   "source": [
    "%load_ext autoreload\n",
    "%autoreload 2"
   ]
  },
  {
   "cell_type": "code",
   "execution_count": 7,
   "metadata": {},
   "outputs": [
    {
     "name": "stdout",
     "output_type": "stream",
     "text": [
      "Querying Aragorn...\n",
      "Returned 394 results\n"
     ]
    }
   ],
   "source": [
    "from kg_summarizer.queries import LOOKUP_QUERY_GRAPH_LIST, CREATIVE_QUERY_GRAPH_LIST\n",
    "from kg_summarizer.trapi import query_knowledge_graph\n",
    "\n",
    "idx = 0\n",
    "query_graph = LOOKUP_QUERY_GRAPH_LIST[idx]\n",
    "\n",
    "# idx = 1\n",
    "# query_graph = CREATIVE_QUERY_GRAPH_LIST[idx]\n",
    "\n",
    "# target = 'robokop'\n",
    "target = 'aragorn'\n",
    "# target = 'strider'\n",
    "\n",
    "# rjson = cache_query_knowledge_graph(query_graph, target=target)\n",
    "rjson = query_knowledge_graph(query_graph, target=target)\n",
    "\n",
    "print(f\"Returned {len(rjson['message']['results'])} results\")"
   ]
  },
  {
   "cell_type": "code",
   "execution_count": 15,
   "metadata": {},
   "outputs": [],
   "source": [
    "from kg_summarizer.trapi import GraphContainer\n",
    "\n",
    "g = GraphContainer(query_graph, rjson, verbose=False, result_idx=0)"
   ]
  },
  {
   "cell_type": "code",
   "execution_count": 17,
   "metadata": {},
   "outputs": [
    {
     "name": "stdout",
     "output_type": "stream",
     "text": [
      "Response Status Code: 422\n",
      "Response JSON: {'detail': [{'loc': ['body', 'message'], 'msg': 'field required', 'type': 'value_error.missing'}]}\n"
     ]
    }
   ],
   "source": [
    "import requests\n",
    "\n",
    "# Set up base URL\n",
    "base_url = \"http://localhost:8000\"\n",
    "\n",
    "# Define the endpoint\n",
    "endpoint = \"/summarize\"\n",
    "\n",
    "# Data to send in the POST request\n",
    "# data = {\"query_graph\": query_graph, \"response\": rjson}  # Replace with your actual data\n",
    "data = {\"query_graph\": query_graph}  # Replace with your actual data\n",
    "\n",
    "# Send POST request\n",
    "response = requests.post(base_url + endpoint, json=data)\n",
    "\n",
    "# Handle response\n",
    "print(\"Response Status Code:\", response.status_code)\n",
    "print(\"Response JSON:\", response.json())\n"
   ]
  }
 ],
 "metadata": {
  "kernelspec": {
   "display_name": "venv",
   "language": "python",
   "name": "python3"
  },
  "language_info": {
   "codemirror_mode": {
    "name": "ipython",
    "version": 3
   },
   "file_extension": ".py",
   "mimetype": "text/x-python",
   "name": "python",
   "nbconvert_exporter": "python",
   "pygments_lexer": "ipython3",
   "version": "3.10.1"
  },
  "orig_nbformat": 4
 },
 "nbformat": 4,
 "nbformat_minor": 2
}
